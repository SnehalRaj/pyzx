{
 "cells": [
  {
   "cell_type": "code",
   "execution_count": 1,
   "metadata": {},
   "outputs": [],
   "source": [
    "import sys; sys.path.append('..')\n",
    "import matplotlib.pyplot as plt\n",
    "import quimb.tensor as qtn\n",
    "import cotengra as ctg\n",
    "import quimb as qu\n",
    "import numpy as np\n",
    "import time, random"
   ]
  },
  {
   "cell_type": "code",
   "execution_count": 4,
   "metadata": {},
   "outputs": [],
   "source": [
    "import re\n",
    "import math\n",
    "import numbers\n",
    "import operator\n",
    "import functools\n",
    "import itertools\n",
    "\n",
    "import numpy as np\n",
    "from autoray import do, reshape\n",
    "\n",
    "import quimb as qu\n",
    "from quimb.utils import oset, partitionby, concatv, partition_all, ensure_dict, LRU"
   ]
  },
  {
   "cell_type": "code",
   "execution_count": 5,
   "metadata": {},
   "outputs": [],
   "source": [
    "qasm_str = \"\"\"4\n",
    "0 hz_1_2 0 \n",
    "0 x_1_2 1 \n",
    "0 x_1_2 2 \n",
    "0 hz_1_2 3 \n",
    "1 rz 0 1.210696502097985\n",
    "1 rz 1 2.4326562950300605\n",
    "1 rz 2 -2.225882728378087\n",
    "1 rz 3 -2.7293249642087485\n",
    "2 fs 0 2 1.23123 1.23123\n",
    "2 fs 1 3 1.53079632679 0.47689957001758815\n",
    "3 rz 1 -2.3932854391951004\n",
    "3 rz 2 2.600059005847074\n",
    "3 rz 3 2.1293419565556686\n",
    "3 rz 0 2.635214888513154\n",
    "4 y_1_2 0 \n",
    "4 y_1_2 1 \n",
    "4 y_1_2 2 \n",
    "4 x_1_2 3\n",
    "\"\"\""
   ]
  },
  {
   "cell_type": "code",
   "execution_count": 6,
   "metadata": {},
   "outputs": [],
   "source": [
    "def _convert_ints_and_floats(x):\n",
    "    if isinstance(x, str):\n",
    "        try:\n",
    "            return int(x)\n",
    "        except ValueError:\n",
    "            pass\n",
    "\n",
    "        try:\n",
    "            return float(x)\n",
    "        except ValueError:\n",
    "            pass\n",
    "\n",
    "    return x\n",
    "\n",
    "\n",
    "def _put_registers_last(x):\n",
    "    # no need to do anything unless parameter (i.e. float) is found last\n",
    "    if not isinstance(x[-1], float):\n",
    "        return x\n",
    "\n",
    "    # swap this last group of floats with the penultimate group of integers\n",
    "    parts = tuple(partitionby(type, x))\n",
    "    return tuple(concatv(*parts[:-2], parts[-1], parts[-2]))"
   ]
  },
  {
   "cell_type": "code",
   "execution_count": 7,
   "metadata": {},
   "outputs": [],
   "source": [
    "def parse_qasm(qasm):\n",
    "    \"\"\"Parse qasm from a string.\n",
    "\n",
    "    Parameters\n",
    "    ----------\n",
    "    qasm : str\n",
    "        The full string of the qasm file.\n",
    "\n",
    "    Returns\n",
    "    -------\n",
    "    circuit_info : dict\n",
    "        Information about the circuit:\n",
    "\n",
    "        - circuit_info['n']: the number of qubits\n",
    "        - circuit_info['n_gates']: the number of gates in total\n",
    "        - circuit_info['gates']: list[list[str]], list of gates, each of which\n",
    "          is a list of strings read from a line of the qasm file.\n",
    "    \"\"\"\n",
    "\n",
    "    lines = qasm.split('\\n')\n",
    "    n = int(lines[0])\n",
    "\n",
    "    # turn into tuples of python types\n",
    "    gates = [\n",
    "        tuple(map(_convert_ints_and_floats, line.strip().split(\" \")))\n",
    "        for line in lines[1:] if line\n",
    "    ]\n",
    "\n",
    "    # put registers/parameters in standard order and detect if gate round used\n",
    "    gates = tuple(map(_put_registers_last, gates))\n",
    "    round_specified = isinstance(gates[0][0], numbers.Integral)\n",
    "\n",
    "    return {\n",
    "        'n': n,\n",
    "        'gates': gates,\n",
    "        'n_gates': len(gates),\n",
    "        'round_specified': round_specified,\n",
    "    }"
   ]
  },
  {
   "cell_type": "code",
   "execution_count": 8,
   "metadata": {},
   "outputs": [
    {
     "data": {
      "text/plain": [
       "{'n': 4,\n",
       " 'gates': ((0, 'hz_1_2', 0),\n",
       "  (0, 'x_1_2', 1),\n",
       "  (0, 'x_1_2', 2),\n",
       "  (0, 'hz_1_2', 3),\n",
       "  (1, 'rz', 1.210696502097985, 0),\n",
       "  (1, 'rz', 2.4326562950300605, 1),\n",
       "  (1, 'rz', -2.225882728378087, 2),\n",
       "  (1, 'rz', -2.7293249642087485, 3),\n",
       "  (2, 'fs', 1.23123, 1.23123, 0, 2),\n",
       "  (2, 'fs', 1.53079632679, 0.47689957001758815, 1, 3),\n",
       "  (3, 'rz', -2.3932854391951004, 1),\n",
       "  (3, 'rz', 2.600059005847074, 2),\n",
       "  (3, 'rz', 2.1293419565556686, 3),\n",
       "  (3, 'rz', 2.635214888513154, 0),\n",
       "  (4, 'y_1_2', 0),\n",
       "  (4, 'y_1_2', 1),\n",
       "  (4, 'y_1_2', 2),\n",
       "  (4, 'x_1_2', 3)),\n",
       " 'n_gates': 18,\n",
       " 'round_specified': True}"
      ]
     },
     "execution_count": 8,
     "metadata": {},
     "output_type": "execute_result"
    }
   ],
   "source": [
    "parse_qasm(qasm_str)"
   ]
  },
  {
   "cell_type": "code",
   "execution_count": null,
   "metadata": {},
   "outputs": [],
   "source": [
    "openqasm_str = \"\"\"OPENQASM 2.0;\n",
    "include \"qelib1.inc\";\n",
    "qreg qubits[5];\n",
    "h qubits[4];\n",
    "h qubits[4];\n",
    "ccx qubits[2],qubits[3],qubits[4];\n",
    "h qubits[4];\n",
    "h qubits[4];\n",
    "h qubits[3];\n",
    "h qubits[3];\n",
    "ccx qubits[0],qubits[1],qubits[3];\n",
    "h qubits[3];\n",
    "h qubits[3];\n",
    "h qubits[4];\n",
    "h qubits[4];\n",
    "ccx qubits[2],qubits[3],qubits[4];\n",
    "h qubits[4];\n",
    "h qubits[4];\n",
    "h qubits[3];\n",
    "h qubits[3];\n",
    "ccx qubits[0],qubits[1],qubits[3];\n",
    "h qubits[3];\n",
    "h qubits[3];\n",
    "\"\"\""
   ]
  }
 ],
 "metadata": {
  "kernelspec": {
   "display_name": "Python 3.8.9 64-bit ('3.8.9')",
   "language": "python",
   "name": "python3"
  },
  "language_info": {
   "codemirror_mode": {
    "name": "ipython",
    "version": 3
   },
   "file_extension": ".py",
   "mimetype": "text/x-python",
   "name": "python",
   "nbconvert_exporter": "python",
   "pygments_lexer": "ipython3",
   "version": "3.8.9"
  },
  "orig_nbformat": 4,
  "vscode": {
   "interpreter": {
    "hash": "ade7548203f1bf96ec7e64515aa324e655cba2fe5f8fd4f8dd248c39f00d3fe0"
   }
  }
 },
 "nbformat": 4,
 "nbformat_minor": 2
}
