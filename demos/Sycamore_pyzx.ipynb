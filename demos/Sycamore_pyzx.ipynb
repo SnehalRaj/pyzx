{
  "cells": [
    {
      "cell_type": "markdown",
      "metadata": {
        "id": "_8VPQ07ESSaN"
      },
      "source": [
        "## Installs and Imports"
      ]
    },
    {
      "cell_type": "code",
      "execution_count": 14,
      "metadata": {
        "colab": {
          "base_uri": "https://localhost:8080/"
        },
        "id": "03sRmbEVSIgV",
        "outputId": "ca066063-3c3b-4822-90ae-edf353c1a870"
      },
      "outputs": [
        {
          "name": "stdout",
          "output_type": "stream",
          "text": [
            "Requirement already satisfied: autoray in /home/snehal/.pyenv/versions/3.8.9/lib/python3.8/site-packages (0.2.5)\n",
            "Requirement already satisfied: numpy in /home/snehal/.pyenv/versions/3.8.9/lib/python3.8/site-packages (from autoray) (1.21.1)\n",
            "Note: you may need to restart the kernel to use updated packages.\n",
            "Requirement already satisfied: opt_einsum in /home/snehal/.pyenv/versions/3.8.9/lib/python3.8/site-packages (3.3.0)\n",
            "Requirement already satisfied: numpy>=1.7 in /home/snehal/.pyenv/versions/3.8.9/lib/python3.8/site-packages (from opt_einsum) (1.21.1)\n",
            "Note: you may need to restart the kernel to use updated packages.\n",
            "Collecting git+https://github.com/jcmgray/quimb.git@08ab4805df6be023e1027503b8c0915e1bf50b34\n",
            "  Cloning https://github.com/jcmgray/quimb.git (to revision 08ab4805df6be023e1027503b8c0915e1bf50b34) to /tmp/pip-req-build-h3gsp26a\n",
            "  Running command git clone --filter=blob:none --quiet https://github.com/jcmgray/quimb.git /tmp/pip-req-build-h3gsp26a\n",
            "  Running command git rev-parse -q --verify 'sha^08ab4805df6be023e1027503b8c0915e1bf50b34'\n",
            "  Running command git fetch -q https://github.com/jcmgray/quimb.git 08ab4805df6be023e1027503b8c0915e1bf50b34\n",
            "  Running command git checkout -q 08ab4805df6be023e1027503b8c0915e1bf50b34\n",
            "  Resolved https://github.com/jcmgray/quimb.git to commit 08ab4805df6be023e1027503b8c0915e1bf50b34\n",
            "  Preparing metadata (setup.py) ... \u001b[?25ldone\n",
            "\u001b[?25hCollecting git+https://github.com/jcmgray/cotengra.git\n",
            "  Cloning https://github.com/jcmgray/cotengra.git to /tmp/pip-req-build-3x6uor37\n",
            "  Running command git clone --filter=blob:none --quiet https://github.com/jcmgray/cotengra.git /tmp/pip-req-build-3x6uor37\n",
            "  Resolved https://github.com/jcmgray/cotengra.git to commit c3d7d345ef6ef7c61d2c2b5c86e9de8e73db4286\n",
            "  Preparing metadata (setup.py) ... \u001b[?25ldone\n",
            "\u001b[?25hRequirement already satisfied: opt_einsum in /home/snehal/.pyenv/versions/3.8.9/lib/python3.8/site-packages (from cotengra==0.1.0) (3.3.0)\n",
            "Requirement already satisfied: tqdm in /home/snehal/.pyenv/versions/3.8.9/lib/python3.8/site-packages (from cotengra==0.1.0) (4.62.3)\n",
            "Requirement already satisfied: cytoolz in /home/snehal/.pyenv/versions/3.8.9/lib/python3.8/site-packages (from cotengra==0.1.0) (0.11.2)\n",
            "Requirement already satisfied: optuna in /home/snehal/.pyenv/versions/3.8.9/lib/python3.8/site-packages (from cotengra==0.1.0) (2.10.1)\n",
            "Requirement already satisfied: autoray in /home/snehal/.pyenv/versions/3.8.9/lib/python3.8/site-packages (from cotengra==0.1.0) (0.2.5)\n",
            "Requirement already satisfied: numpy in /home/snehal/.pyenv/versions/3.8.9/lib/python3.8/site-packages (from autoray->cotengra==0.1.0) (1.21.1)\n",
            "Requirement already satisfied: toolz>=0.8.0 in /home/snehal/.pyenv/versions/3.8.9/lib/python3.8/site-packages (from cytoolz->cotengra==0.1.0) (0.11.2)\n",
            "Requirement already satisfied: alembic in /home/snehal/.pyenv/versions/3.8.9/lib/python3.8/site-packages (from optuna->cotengra==0.1.0) (1.8.0)\n",
            "Requirement already satisfied: sqlalchemy>=1.1.0 in /home/snehal/.pyenv/versions/3.8.9/lib/python3.8/site-packages (from optuna->cotengra==0.1.0) (1.4.37)\n",
            "Requirement already satisfied: PyYAML in /home/snehal/.pyenv/versions/3.8.9/lib/python3.8/site-packages (from optuna->cotengra==0.1.0) (6.0)\n",
            "Requirement already satisfied: packaging>=20.0 in /home/snehal/.pyenv/versions/3.8.9/lib/python3.8/site-packages (from optuna->cotengra==0.1.0) (21.3)\n",
            "Requirement already satisfied: scipy!=1.4.0 in /home/snehal/.pyenv/versions/3.8.9/lib/python3.8/site-packages (from optuna->cotengra==0.1.0) (1.7.1)\n",
            "Requirement already satisfied: colorlog in /home/snehal/.pyenv/versions/3.8.9/lib/python3.8/site-packages (from optuna->cotengra==0.1.0) (6.6.0)\n",
            "Requirement already satisfied: cliff in /home/snehal/.pyenv/versions/3.8.9/lib/python3.8/site-packages (from optuna->cotengra==0.1.0) (3.10.1)\n",
            "Requirement already satisfied: cmaes>=0.8.2 in /home/snehal/.pyenv/versions/3.8.9/lib/python3.8/site-packages (from optuna->cotengra==0.1.0) (0.8.2)\n",
            "Requirement already satisfied: pyparsing!=3.0.5,>=2.0.2 in /home/snehal/.pyenv/versions/3.8.9/lib/python3.8/site-packages (from packaging>=20.0->optuna->cotengra==0.1.0) (2.4.7)\n",
            "Requirement already satisfied: greenlet!=0.4.17 in /home/snehal/.pyenv/versions/3.8.9/lib/python3.8/site-packages (from sqlalchemy>=1.1.0->optuna->cotengra==0.1.0) (1.1.2)\n",
            "Requirement already satisfied: importlib-metadata in /home/snehal/.pyenv/versions/3.8.9/lib/python3.8/site-packages (from alembic->optuna->cotengra==0.1.0) (4.11.4)\n",
            "Requirement already satisfied: importlib-resources in /home/snehal/.pyenv/versions/3.8.9/lib/python3.8/site-packages (from alembic->optuna->cotengra==0.1.0) (5.8.0)\n",
            "Requirement already satisfied: Mako in /home/snehal/.pyenv/versions/3.8.9/lib/python3.8/site-packages (from alembic->optuna->cotengra==0.1.0) (1.2.0)\n",
            "Requirement already satisfied: PrettyTable>=0.7.2 in /home/snehal/.pyenv/versions/3.8.9/lib/python3.8/site-packages (from cliff->optuna->cotengra==0.1.0) (3.3.0)\n",
            "Requirement already satisfied: pbr!=2.1.0,>=2.0.0 in /home/snehal/.pyenv/versions/3.8.9/lib/python3.8/site-packages (from cliff->optuna->cotengra==0.1.0) (5.9.0)\n",
            "Requirement already satisfied: stevedore>=2.0.1 in /home/snehal/.pyenv/versions/3.8.9/lib/python3.8/site-packages (from cliff->optuna->cotengra==0.1.0) (3.5.0)\n",
            "Requirement already satisfied: cmd2>=1.0.0 in /home/snehal/.pyenv/versions/3.8.9/lib/python3.8/site-packages (from cliff->optuna->cotengra==0.1.0) (2.4.1)\n",
            "Requirement already satisfied: autopage>=0.4.0 in /home/snehal/.pyenv/versions/3.8.9/lib/python3.8/site-packages (from cliff->optuna->cotengra==0.1.0) (0.5.1)\n",
            "Requirement already satisfied: attrs>=16.3.0 in /home/snehal/.pyenv/versions/3.8.9/lib/python3.8/site-packages (from cmd2>=1.0.0->cliff->optuna->cotengra==0.1.0) (21.2.0)\n",
            "Requirement already satisfied: pyperclip>=1.6 in /home/snehal/.pyenv/versions/3.8.9/lib/python3.8/site-packages (from cmd2>=1.0.0->cliff->optuna->cotengra==0.1.0) (1.8.2)\n",
            "Requirement already satisfied: wcwidth>=0.1.7 in /home/snehal/.pyenv/versions/3.8.9/lib/python3.8/site-packages (from cmd2>=1.0.0->cliff->optuna->cotengra==0.1.0) (0.2.5)\n",
            "Requirement already satisfied: zipp>=0.5 in /home/snehal/.pyenv/versions/3.8.9/lib/python3.8/site-packages (from importlib-metadata->alembic->optuna->cotengra==0.1.0) (3.8.0)\n",
            "Requirement already satisfied: MarkupSafe>=0.9.2 in /home/snehal/.pyenv/versions/3.8.9/lib/python3.8/site-packages (from Mako->alembic->optuna->cotengra==0.1.0) (2.0.1)\n",
            "Note: you may need to restart the kernel to use updated packages.\n",
            "Requirement already satisfied: kahypar in /home/snehal/.pyenv/versions/3.8.9/lib/python3.8/site-packages (1.1.7)\n"
          ]
        }
      ],
      "source": [
        "\n",
        "%pip install autoray\n",
        "%pip install opt_einsum\n",
        "\n",
        "!pip install --no-deps -U git+https://github.com/jcmgray/quimb.git@08ab4805df6be023e1027503b8c0915e1bf50b34\n",
        "%pip install -U git+https://github.com/jcmgray/cotengra.git\n",
        "!pip install kahypar"
      ]
    },
    {
      "cell_type": "code",
      "execution_count": 15,
      "metadata": {
        "id": "rUArF9dnBg1e"
      },
      "outputs": [],
      "source": [
        "# just set up some misc notebook plotting stuff\n",
        "\n",
        "%matplotlib inline\n",
        "import matplotlib as mpl\n",
        "mpl.rcParams['figure.dpi'] = 200"
      ]
    },
    {
      "cell_type": "code",
      "execution_count": 16,
      "metadata": {
        "colab": {
          "base_uri": "https://localhost:8080/"
        },
        "id": "JqdzenZyS5bH",
        "outputId": "fa60a1c0-cffe-4065-bcb5-423b3379f191"
      },
      "outputs": [],
      "source": [
        "import sys; sys.path.append('..')\n",
        "import matplotlib.pyplot as plt\n",
        "import quimb.tensor as qtn\n",
        "import cotengra as ctg\n",
        "import quimb as qu\n",
        "import numpy as np\n",
        "import time, random"
      ]
    },
    {
      "cell_type": "code",
      "execution_count": 17,
      "metadata": {},
      "outputs": [
        {
          "data": {
            "text/plain": [
              "<module 'pyzx' from '/home/snehal/pyzx/pyzx/__init__.py'>"
            ]
          },
          "execution_count": 17,
          "metadata": {},
          "output_type": "execute_result"
        }
      ],
      "source": [
        "import pyzx as zx\n",
        "import importlib\n",
        "importlib.reload(zx)"
      ]
    },
    {
      "cell_type": "markdown",
      "metadata": {
        "id": "FsatkxHnSVSj"
      },
      "source": [
        "# Main"
      ]
    },
    {
      "cell_type": "code",
      "execution_count": 18,
      "metadata": {
        "id": "W2Uw_ZrWSWBo"
      },
      "outputs": [],
      "source": [
        "zx.settings.drawing_backend = 'matplotlib'\n",
        "%matplotlib inline \n",
        "def show(g):\n",
        "  return zx.draw_matplotlib(g,labels=True,h_edge_draw='box')"
      ]
    },
    {
      "cell_type": "code",
      "execution_count": 19,
      "metadata": {
        "id": "0ff8Wd3MHafx"
      },
      "outputs": [],
      "source": [
        "def load_circuit(\n",
        "    n=53,\n",
        "    depth=10,\n",
        "    seed=0 ,\n",
        "    elided=0,\n",
        "    sequence='ABCDCDAB',\n",
        "    swap_trick=False\n",
        "):\n",
        "    file = f'circuit_n{n}_m{depth}_s{seed}_e{elided}_p{sequence}.qsim'\n",
        "\n",
        "    if swap_trick:\n",
        "        gate_opts={'contract': 'swap-split-gate', 'max_bond': 2}  \n",
        "    else:\n",
        "        gate_opts={}\n",
        "    \n",
        "    # instantiate the `Circuit` object that \n",
        "    # constructs the initial tensor network:\n",
        "    return zx.Circuit.from_qsim_file(file)"
      ]
    },
    {
      "cell_type": "code",
      "execution_count": 20,
      "metadata": {
        "id": "QO_Hv9rGTLXI"
      },
      "outputs": [],
      "source": [
        "circ = zx.Circuit.from_qsim_file('circuit_n53_m10_s0_e0_pABCDCDAB.qsim')"
      ]
    },
    {
      "cell_type": "code",
      "execution_count": 21,
      "metadata": {
        "id": "CuFnA6IfI4Yd"
      },
      "outputs": [],
      "source": [
        "g = circ.to_graph(zh=True)"
      ]
    },
    {
      "cell_type": "code",
      "execution_count": 22,
      "metadata": {
        "id": "I0kNVIhCS1Xj"
      },
      "outputs": [],
      "source": [
        "qubits = 53\n",
        "g.apply_state(\"0\" * qubits)  # use kets 0 as inputs\n",
        "g.apply_effect(\"0\" *qubits)"
      ]
    },
    {
      "cell_type": "code",
      "execution_count": 23,
      "metadata": {
        "id": "VYJszYHUTDu2"
      },
      "outputs": [],
      "source": [
        "quimb_tn = zx.to_quimb_tensor(g)\n"
      ]
    },
    {
      "cell_type": "code",
      "execution_count": 24,
      "metadata": {},
      "outputs": [
        {
          "data": {
            "text/plain": [
              "<TensorNetwork(tensors=13035, indices=7672)>"
            ]
          },
          "execution_count": 24,
          "metadata": {},
          "output_type": "execute_result"
        }
      ],
      "source": [
        "quimb_tn.astype_('complex64')"
      ]
    },
    {
      "cell_type": "code",
      "execution_count": 25,
      "metadata": {},
      "outputs": [],
      "source": [
        "opt = ctg.HyperOptimizer(\n",
        "    methods=['kahypar', 'greedy'],\n",
        "    max_repeats=128,\n",
        "    progbar=True,\n",
        "    minimize='flops',\n",
        "    score_compression=0.5,  # deliberately make the optimizer try many methods \n",
        ")"
      ]
    },
    {
      "cell_type": "code",
      "execution_count": 27,
      "metadata": {},
      "outputs": [
        {
          "name": "stderr",
          "output_type": "stream",
          "text": [
            "log2[SIZE]: inf log10[FLOPs]: inf:   0%|          | 0/128 [00:00<?, ?it/s]\n"
          ]
        },
        {
          "ename": "BrokenProcessPool",
          "evalue": "A child process terminated abruptly, the process pool is not usable anymore",
          "output_type": "error",
          "traceback": [
            "\u001b[0;31m---------------------------------------------------------------------------\u001b[0m",
            "\u001b[0;31mBrokenProcessPool\u001b[0m                         Traceback (most recent call last)",
            "\u001b[0;32m/tmp/ipykernel_1588/2316402719.py\u001b[0m in \u001b[0;36m<module>\u001b[0;34m\u001b[0m\n\u001b[0;32m----> 1\u001b[0;31m \u001b[0minfo\u001b[0m \u001b[0;34m=\u001b[0m \u001b[0mquimb_tn\u001b[0m\u001b[0;34m.\u001b[0m\u001b[0mcontract\u001b[0m\u001b[0;34m(\u001b[0m\u001b[0mall\u001b[0m\u001b[0;34m,\u001b[0m \u001b[0moptimize\u001b[0m\u001b[0;34m=\u001b[0m\u001b[0mopt\u001b[0m\u001b[0;34m,\u001b[0m\u001b[0moutput_inds\u001b[0m\u001b[0;34m=\u001b[0m\u001b[0;34m(\u001b[0m\u001b[0;34m)\u001b[0m\u001b[0;34m,\u001b[0m \u001b[0mget\u001b[0m\u001b[0;34m=\u001b[0m\u001b[0;34m'path-info'\u001b[0m\u001b[0;34m)\u001b[0m\u001b[0;34m\u001b[0m\u001b[0;34m\u001b[0m\u001b[0m\n\u001b[0m",
            "\u001b[0;32m~/.pyenv/versions/3.8.9/lib/python3.8/site-packages/quimb/tensor/tensor_core.py\u001b[0m in \u001b[0;36mcontract\u001b[0;34m(self, tags, inplace, **opts)\u001b[0m\n\u001b[1;32m   6797\u001b[0m         \"\"\"\n\u001b[1;32m   6798\u001b[0m         \u001b[0;32mif\u001b[0m \u001b[0mtags\u001b[0m \u001b[0;32mis\u001b[0m \u001b[0mall\u001b[0m\u001b[0;34m:\u001b[0m\u001b[0;34m\u001b[0m\u001b[0;34m\u001b[0m\u001b[0m\n\u001b[0;32m-> 6799\u001b[0;31m             \u001b[0;32mreturn\u001b[0m \u001b[0mtensor_contract\u001b[0m\u001b[0;34m(\u001b[0m\u001b[0;34m*\u001b[0m\u001b[0mself\u001b[0m\u001b[0;34m,\u001b[0m \u001b[0;34m**\u001b[0m\u001b[0mopts\u001b[0m\u001b[0;34m)\u001b[0m\u001b[0;34m\u001b[0m\u001b[0;34m\u001b[0m\u001b[0m\n\u001b[0m\u001b[1;32m   6800\u001b[0m \u001b[0;34m\u001b[0m\u001b[0m\n\u001b[1;32m   6801\u001b[0m         \u001b[0;31m# this checks whether certain TN classes have a manually specified\u001b[0m\u001b[0;34m\u001b[0m\u001b[0;34m\u001b[0m\u001b[0;34m\u001b[0m\u001b[0m\n",
            "\u001b[0;32m~/.pyenv/versions/3.8.9/lib/python3.8/site-packages/quimb/tensor/tensor_core.py\u001b[0m in \u001b[0;36mtensor_contract\u001b[0;34m(output_inds, get, backend, preserve_tensor, *tensors, **contract_opts)\u001b[0m\n\u001b[1;32m    558\u001b[0m         \u001b[0;32mif\u001b[0m \u001b[0mget\u001b[0m \u001b[0;34m==\u001b[0m \u001b[0;34m'path-info'\u001b[0m\u001b[0;34m:\u001b[0m\u001b[0;34m\u001b[0m\u001b[0;34m\u001b[0m\u001b[0m\n\u001b[1;32m    559\u001b[0m             \u001b[0mops\u001b[0m \u001b[0;34m=\u001b[0m \u001b[0;34m(\u001b[0m\u001b[0mt\u001b[0m\u001b[0;34m.\u001b[0m\u001b[0mshape\u001b[0m \u001b[0;32mfor\u001b[0m \u001b[0mt\u001b[0m \u001b[0;32min\u001b[0m \u001b[0mtensors\u001b[0m\u001b[0;34m)\u001b[0m\u001b[0;34m\u001b[0m\u001b[0;34m\u001b[0m\u001b[0m\n\u001b[0;32m--> 560\u001b[0;31m             \u001b[0mpath_info\u001b[0m \u001b[0;34m=\u001b[0m \u001b[0mget_contraction\u001b[0m\u001b[0;34m(\u001b[0m\u001b[0meq\u001b[0m\u001b[0;34m,\u001b[0m \u001b[0;34m*\u001b[0m\u001b[0mops\u001b[0m\u001b[0;34m,\u001b[0m \u001b[0mget\u001b[0m\u001b[0;34m=\u001b[0m\u001b[0;34m'info'\u001b[0m\u001b[0;34m,\u001b[0m \u001b[0;34m**\u001b[0m\u001b[0mcontract_opts\u001b[0m\u001b[0;34m)\u001b[0m\u001b[0;34m\u001b[0m\u001b[0;34m\u001b[0m\u001b[0m\n\u001b[0m\u001b[1;32m    561\u001b[0m             path_info.quimb_symbol_map = {\n\u001b[1;32m    562\u001b[0m                 \u001b[0mget_symbol\u001b[0m\u001b[0;34m(\u001b[0m\u001b[0mi\u001b[0m\u001b[0;34m)\u001b[0m\u001b[0;34m:\u001b[0m \u001b[0mix\u001b[0m\u001b[0;34m\u001b[0m\u001b[0;34m\u001b[0m\u001b[0m\n",
            "\u001b[0;32m~/.pyenv/versions/3.8.9/lib/python3.8/site-packages/quimb/tensor/tensor_core.py\u001b[0m in \u001b[0;36mget_contraction\u001b[0;34m(eq, cache, get, optimize, *shapes, **kwargs)\u001b[0m\n\u001b[1;32m    249\u001b[0m         \u001b[0moptimize\u001b[0m \u001b[0;34m=\u001b[0m \u001b[0mtuple\u001b[0m\u001b[0;34m(\u001b[0m\u001b[0moptimize\u001b[0m\u001b[0;34m)\u001b[0m\u001b[0;34m\u001b[0m\u001b[0;34m\u001b[0m\u001b[0m\n\u001b[1;32m    250\u001b[0m \u001b[0;34m\u001b[0m\u001b[0m\n\u001b[0;32m--> 251\u001b[0;31m     \u001b[0;32mreturn\u001b[0m \u001b[0m_get_contraction\u001b[0m\u001b[0;34m(\u001b[0m\u001b[0meq\u001b[0m\u001b[0;34m,\u001b[0m \u001b[0mshapes\u001b[0m\u001b[0;34m,\u001b[0m \u001b[0moptimize\u001b[0m\u001b[0;34m,\u001b[0m \u001b[0mcache\u001b[0m\u001b[0;34m,\u001b[0m \u001b[0mget\u001b[0m\u001b[0;34m,\u001b[0m \u001b[0;34m**\u001b[0m\u001b[0mkwargs\u001b[0m\u001b[0;34m)\u001b[0m\u001b[0;34m\u001b[0m\u001b[0;34m\u001b[0m\u001b[0m\n\u001b[0m\u001b[1;32m    252\u001b[0m \u001b[0;34m\u001b[0m\u001b[0m\n\u001b[1;32m    253\u001b[0m \u001b[0;34m\u001b[0m\u001b[0m\n",
            "\u001b[0;32m~/.pyenv/versions/3.8.9/lib/python3.8/site-packages/quimb/tensor/tensor_core.py\u001b[0m in \u001b[0;36m_get_contraction\u001b[0;34m(eq, shapes, optimize, cache, get, **kwargs)\u001b[0m\n\u001b[1;32m    206\u001b[0m     \u001b[0;32mif\u001b[0m \u001b[0;32mnot\u001b[0m \u001b[0misinstance\u001b[0m\u001b[0;34m(\u001b[0m\u001b[0moptimize\u001b[0m\u001b[0;34m,\u001b[0m \u001b[0mtuple\u001b[0m\u001b[0;34m)\u001b[0m\u001b[0;34m:\u001b[0m\u001b[0;34m\u001b[0m\u001b[0;34m\u001b[0m\u001b[0m\n\u001b[1;32m    207\u001b[0m         \u001b[0mpath_fn\u001b[0m \u001b[0;34m=\u001b[0m \u001b[0m_CONTRACT_FNS\u001b[0m\u001b[0;34m[\u001b[0m\u001b[0;34m'path'\u001b[0m\u001b[0;34m,\u001b[0m \u001b[0mcache_path\u001b[0m\u001b[0;34m]\u001b[0m\u001b[0;34m\u001b[0m\u001b[0;34m\u001b[0m\u001b[0m\n\u001b[0;32m--> 208\u001b[0;31m         \u001b[0mpath\u001b[0m \u001b[0;34m=\u001b[0m \u001b[0mpath_fn\u001b[0m\u001b[0;34m(\u001b[0m\u001b[0meq\u001b[0m\u001b[0;34m,\u001b[0m \u001b[0;34m*\u001b[0m\u001b[0mshapes\u001b[0m\u001b[0;34m,\u001b[0m \u001b[0moptimize\u001b[0m\u001b[0;34m=\u001b[0m\u001b[0moptimize\u001b[0m\u001b[0;34m,\u001b[0m \u001b[0;34m**\u001b[0m\u001b[0mkwargs\u001b[0m\u001b[0;34m)\u001b[0m\u001b[0;34m\u001b[0m\u001b[0;34m\u001b[0m\u001b[0m\n\u001b[0m\u001b[1;32m    209\u001b[0m     \u001b[0;32melse\u001b[0m\u001b[0;34m:\u001b[0m\u001b[0;34m\u001b[0m\u001b[0;34m\u001b[0m\u001b[0m\n\u001b[1;32m    210\u001b[0m         \u001b[0mpath\u001b[0m \u001b[0;34m=\u001b[0m \u001b[0moptimize\u001b[0m\u001b[0;34m\u001b[0m\u001b[0;34m\u001b[0m\u001b[0m\n",
            "\u001b[0;32m~/.pyenv/versions/3.8.9/lib/python3.8/site-packages/quimb/tensor/tensor_core.py\u001b[0m in \u001b[0;36m_get_contract_path\u001b[0;34m(eq, *shapes, **kwargs)\u001b[0m\n\u001b[1;32m    127\u001b[0m \u001b[0;34m\u001b[0m\u001b[0m\n\u001b[1;32m    128\u001b[0m     \u001b[0;31m# this way we get to avoid constructing the full PathInfo object\u001b[0m\u001b[0;34m\u001b[0m\u001b[0;34m\u001b[0m\u001b[0;34m\u001b[0m\u001b[0m\n\u001b[0;32m--> 129\u001b[0;31m     \u001b[0mpath\u001b[0m \u001b[0;34m=\u001b[0m \u001b[0moptimize\u001b[0m\u001b[0;34m(\u001b[0m\u001b[0minputs\u001b[0m\u001b[0;34m,\u001b[0m \u001b[0moutput\u001b[0m\u001b[0;34m,\u001b[0m \u001b[0msize_dict\u001b[0m\u001b[0;34m,\u001b[0m \u001b[0;34m**\u001b[0m\u001b[0mkwargs\u001b[0m\u001b[0;34m)\u001b[0m\u001b[0;34m\u001b[0m\u001b[0;34m\u001b[0m\u001b[0m\n\u001b[0m\u001b[1;32m    130\u001b[0m     \u001b[0;32mreturn\u001b[0m \u001b[0mtuple\u001b[0m\u001b[0;34m(\u001b[0m\u001b[0mpath\u001b[0m\u001b[0;34m)\u001b[0m\u001b[0;34m\u001b[0m\u001b[0;34m\u001b[0m\u001b[0m\n\u001b[1;32m    131\u001b[0m \u001b[0;34m\u001b[0m\u001b[0m\n",
            "\u001b[0;32m~/.pyenv/versions/3.8.9/lib/python3.8/site-packages/cotengra/hyper.py\u001b[0m in \u001b[0;36m__call__\u001b[0;34m(self, inputs, output, size_dict, memory_limit)\u001b[0m\n\u001b[1;32m    646\u001b[0m         \"\"\"``opt_einsum`` interface, returns direct ``path``.\n\u001b[1;32m    647\u001b[0m         \"\"\"\n\u001b[0;32m--> 648\u001b[0;31m         \u001b[0mself\u001b[0m\u001b[0;34m.\u001b[0m\u001b[0m_search\u001b[0m\u001b[0;34m(\u001b[0m\u001b[0minputs\u001b[0m\u001b[0;34m,\u001b[0m \u001b[0moutput\u001b[0m\u001b[0;34m,\u001b[0m \u001b[0msize_dict\u001b[0m\u001b[0;34m,\u001b[0m\u001b[0;34m)\u001b[0m\u001b[0;34m\u001b[0m\u001b[0;34m\u001b[0m\u001b[0m\n\u001b[0m\u001b[1;32m    649\u001b[0m         \u001b[0;32mreturn\u001b[0m \u001b[0mtuple\u001b[0m\u001b[0;34m(\u001b[0m\u001b[0mself\u001b[0m\u001b[0;34m.\u001b[0m\u001b[0mpath\u001b[0m\u001b[0;34m)\u001b[0m\u001b[0;34m\u001b[0m\u001b[0;34m\u001b[0m\u001b[0m\n\u001b[1;32m    650\u001b[0m \u001b[0;34m\u001b[0m\u001b[0m\n",
            "\u001b[0;32m~/.pyenv/versions/3.8.9/lib/python3.8/site-packages/cotengra/hyper.py\u001b[0m in \u001b[0;36m_search\u001b[0;34m(self, inputs, output, size_dict)\u001b[0m\n\u001b[1;32m    601\u001b[0m \u001b[0;34m\u001b[0m\u001b[0m\n\u001b[1;32m    602\u001b[0m         \u001b[0;31m# assess the trials\u001b[0m\u001b[0;34m\u001b[0m\u001b[0;34m\u001b[0m\u001b[0;34m\u001b[0m\u001b[0m\n\u001b[0;32m--> 603\u001b[0;31m         \u001b[0;32mfor\u001b[0m \u001b[0mtrial\u001b[0m \u001b[0;32min\u001b[0m \u001b[0mtrials\u001b[0m\u001b[0;34m:\u001b[0m\u001b[0;34m\u001b[0m\u001b[0;34m\u001b[0m\u001b[0m\n\u001b[0m\u001b[1;32m    604\u001b[0m \u001b[0;34m\u001b[0m\u001b[0m\n\u001b[1;32m    605\u001b[0m             \u001b[0;31m# keep track of all costs and sizes\u001b[0m\u001b[0;34m\u001b[0m\u001b[0;34m\u001b[0m\u001b[0;34m\u001b[0m\u001b[0m\n",
            "\u001b[0;32m~/.pyenv/versions/3.8.9/lib/python3.8/site-packages/tqdm/std.py\u001b[0m in \u001b[0;36m__iter__\u001b[0;34m(self)\u001b[0m\n\u001b[1;32m   1178\u001b[0m \u001b[0;34m\u001b[0m\u001b[0m\n\u001b[1;32m   1179\u001b[0m         \u001b[0;32mtry\u001b[0m\u001b[0;34m:\u001b[0m\u001b[0;34m\u001b[0m\u001b[0;34m\u001b[0m\u001b[0m\n\u001b[0;32m-> 1180\u001b[0;31m             \u001b[0;32mfor\u001b[0m \u001b[0mobj\u001b[0m \u001b[0;32min\u001b[0m \u001b[0miterable\u001b[0m\u001b[0;34m:\u001b[0m\u001b[0;34m\u001b[0m\u001b[0;34m\u001b[0m\u001b[0m\n\u001b[0m\u001b[1;32m   1181\u001b[0m                 \u001b[0;32myield\u001b[0m \u001b[0mobj\u001b[0m\u001b[0;34m\u001b[0m\u001b[0;34m\u001b[0m\u001b[0m\n\u001b[1;32m   1182\u001b[0m                 \u001b[0;31m# Update and possibly print the progressbar.\u001b[0m\u001b[0;34m\u001b[0m\u001b[0;34m\u001b[0m\u001b[0;34m\u001b[0m\u001b[0m\n",
            "\u001b[0;32m~/.pyenv/versions/3.8.9/lib/python3.8/site-packages/cotengra/hyper.py\u001b[0m in \u001b[0;36m_gen_results_parallel\u001b[0;34m(self, repeats, trial_fn, trial_args)\u001b[0m\n\u001b[1;32m    540\u001b[0m             \u001b[0mmethod\u001b[0m \u001b[0;34m=\u001b[0m \u001b[0msetting\u001b[0m\u001b[0;34m[\u001b[0m\u001b[0;34m'method'\u001b[0m\u001b[0;34m]\u001b[0m\u001b[0;34m\u001b[0m\u001b[0;34m\u001b[0m\u001b[0m\n\u001b[1;32m    541\u001b[0m \u001b[0;34m\u001b[0m\u001b[0m\n\u001b[0;32m--> 542\u001b[0;31m             future = submit(\n\u001b[0m\u001b[1;32m    543\u001b[0m                 \u001b[0mself\u001b[0m\u001b[0;34m.\u001b[0m\u001b[0m_pool\u001b[0m\u001b[0;34m,\u001b[0m \u001b[0mtrial_fn\u001b[0m\u001b[0;34m,\u001b[0m \u001b[0;34m*\u001b[0m\u001b[0mtrial_args\u001b[0m\u001b[0;34m,\u001b[0m \u001b[0mmethod\u001b[0m\u001b[0;34m=\u001b[0m\u001b[0mmethod\u001b[0m\u001b[0;34m,\u001b[0m\u001b[0;34m\u001b[0m\u001b[0;34m\u001b[0m\u001b[0m\n\u001b[1;32m    544\u001b[0m                 **setting['params'], **constants[method])\n",
            "\u001b[0;32m~/.pyenv/versions/3.8.9/lib/python3.8/site-packages/cotengra/parallel.py\u001b[0m in \u001b[0;36msubmit\u001b[0;34m(pool, fn, *args, **kwargs)\u001b[0m\n\u001b[1;32m    154\u001b[0m     \u001b[0;32mif\u001b[0m \u001b[0m_infer_backend\u001b[0m\u001b[0;34m(\u001b[0m\u001b[0mpool\u001b[0m\u001b[0;34m)\u001b[0m \u001b[0;34m==\u001b[0m \u001b[0;34m\"dask\"\u001b[0m\u001b[0;34m:\u001b[0m\u001b[0;34m\u001b[0m\u001b[0;34m\u001b[0m\u001b[0m\n\u001b[1;32m    155\u001b[0m         \u001b[0mkwargs\u001b[0m\u001b[0;34m.\u001b[0m\u001b[0msetdefault\u001b[0m\u001b[0;34m(\u001b[0m\u001b[0;34m\"pure\"\u001b[0m\u001b[0;34m,\u001b[0m \u001b[0;32mFalse\u001b[0m\u001b[0;34m)\u001b[0m\u001b[0;34m\u001b[0m\u001b[0;34m\u001b[0m\u001b[0m\n\u001b[0;32m--> 156\u001b[0;31m     \u001b[0;32mreturn\u001b[0m \u001b[0mpool\u001b[0m\u001b[0;34m.\u001b[0m\u001b[0msubmit\u001b[0m\u001b[0;34m(\u001b[0m\u001b[0mfn\u001b[0m\u001b[0;34m,\u001b[0m \u001b[0;34m*\u001b[0m\u001b[0margs\u001b[0m\u001b[0;34m,\u001b[0m \u001b[0;34m**\u001b[0m\u001b[0mkwargs\u001b[0m\u001b[0;34m)\u001b[0m\u001b[0;34m\u001b[0m\u001b[0;34m\u001b[0m\u001b[0m\n\u001b[0m\u001b[1;32m    157\u001b[0m \u001b[0;34m\u001b[0m\u001b[0m\n\u001b[1;32m    158\u001b[0m \u001b[0;34m\u001b[0m\u001b[0m\n",
            "\u001b[0;32m~/.pyenv/versions/3.8.9/lib/python3.8/concurrent/futures/process.py\u001b[0m in \u001b[0;36msubmit\u001b[0;34m(*args, **kwargs)\u001b[0m\n\u001b[1;32m    627\u001b[0m         \u001b[0;32mwith\u001b[0m \u001b[0mself\u001b[0m\u001b[0;34m.\u001b[0m\u001b[0m_shutdown_lock\u001b[0m\u001b[0;34m:\u001b[0m\u001b[0;34m\u001b[0m\u001b[0;34m\u001b[0m\u001b[0m\n\u001b[1;32m    628\u001b[0m             \u001b[0;32mif\u001b[0m \u001b[0mself\u001b[0m\u001b[0;34m.\u001b[0m\u001b[0m_broken\u001b[0m\u001b[0;34m:\u001b[0m\u001b[0;34m\u001b[0m\u001b[0;34m\u001b[0m\u001b[0m\n\u001b[0;32m--> 629\u001b[0;31m                 \u001b[0;32mraise\u001b[0m \u001b[0mBrokenProcessPool\u001b[0m\u001b[0;34m(\u001b[0m\u001b[0mself\u001b[0m\u001b[0;34m.\u001b[0m\u001b[0m_broken\u001b[0m\u001b[0;34m)\u001b[0m\u001b[0;34m\u001b[0m\u001b[0;34m\u001b[0m\u001b[0m\n\u001b[0m\u001b[1;32m    630\u001b[0m             \u001b[0;32mif\u001b[0m \u001b[0mself\u001b[0m\u001b[0;34m.\u001b[0m\u001b[0m_shutdown_thread\u001b[0m\u001b[0;34m:\u001b[0m\u001b[0;34m\u001b[0m\u001b[0;34m\u001b[0m\u001b[0m\n\u001b[1;32m    631\u001b[0m                 \u001b[0;32mraise\u001b[0m \u001b[0mRuntimeError\u001b[0m\u001b[0;34m(\u001b[0m\u001b[0;34m'cannot schedule new futures after shutdown'\u001b[0m\u001b[0;34m)\u001b[0m\u001b[0;34m\u001b[0m\u001b[0;34m\u001b[0m\u001b[0m\n",
            "\u001b[0;31mBrokenProcessPool\u001b[0m: A child process terminated abruptly, the process pool is not usable anymore"
          ]
        }
      ],
      "source": [
        "info = quimb_tn.contract(all, optimize=opt,output_inds=(), get='path-info')"
      ]
    },
    {
      "cell_type": "code",
      "execution_count": null,
      "metadata": {},
      "outputs": [],
      "source": [
        "tree = opt.get_tree()\n",
        "f'{tree.contraction_cost():e}'"
      ]
    },
    {
      "cell_type": "code",
      "execution_count": null,
      "metadata": {},
      "outputs": [
        {
          "name": "stdout",
          "output_type": "stream",
          "text": [
            "spider_simp: 240. 142. 49.  3 iterations\n",
            "id_simp: 129.  1 iterations\n",
            "spider_simp: 43. 43.  2 iterations\n",
            "lcomp_simp: 311. 35. 1.  3 iterations\n",
            "pivot_gadget_simp: 124. 61. 25. 15. 1.  5 iterations\n",
            "id_simp: 35.  1 iterations\n",
            "spider_simp: 19. 13. 3.  3 iterations\n",
            "gadget_simp: 57.  1 iterations\n",
            "id_simp: 19.  1 iterations\n",
            "spider_simp: 19.  1 iterations\n",
            "pivot_gadget_simp: 19.  1 iterations\n"
          ]
        }
      ],
      "source": [
        "zx.full_reduce(g,quiet=False)\n"
      ]
    },
    {
      "cell_type": "code",
      "execution_count": null,
      "metadata": {},
      "outputs": [],
      "source": []
    },
    {
      "cell_type": "code",
      "execution_count": null,
      "metadata": {
        "colab": {
          "base_uri": "https://localhost:8080/"
        },
        "id": "PYjCfgnd9e2l",
        "outputId": "db750986-7fac-44df-d8da-a28d5ccf8917"
      },
      "outputs": [
        {
          "data": {
            "text/plain": [
              "<TensorNetwork(tensors=490, indices=240)>"
            ]
          },
          "execution_count": 28,
          "metadata": {},
          "output_type": "execute_result"
        }
      ],
      "source": [
        "qtn = zx.to_quimb_tensor(g)\n",
        "qtn"
      ]
    },
    {
      "cell_type": "code",
      "execution_count": null,
      "metadata": {},
      "outputs": [
        {
          "data": {
            "text/plain": [
              "(4.388721754787585e-12-6.0992332087521625e-12j)"
            ]
          },
          "execution_count": 29,
          "metadata": {},
          "output_type": "execute_result"
        }
      ],
      "source": [
        "qtn.contract(output_inds=())"
      ]
    },
    {
      "cell_type": "code",
      "execution_count": null,
      "metadata": {
        "colab": {
          "base_uri": "https://localhost:8080/"
        },
        "id": "-VoH_-otUbjn",
        "outputId": "e1fdfc11-eac7-47ff-dd55-778e4f967f9a"
      },
      "outputs": [
        {
          "data": {
            "text/plain": [
              "<TensorNetwork(tensors=124, indices=60)>"
            ]
          },
          "execution_count": 19,
          "metadata": {},
          "output_type": "execute_result"
        }
      ],
      "source": [
        "qtn.astype_('complex64')"
      ]
    },
    {
      "cell_type": "code",
      "execution_count": null,
      "metadata": {
        "colab": {
          "base_uri": "https://localhost:8080/"
        },
        "id": "4oPTUs5WPGT9",
        "outputId": "e1ebe8a0-4f76-4c36-f1a7-845f2daa5c63"
      },
      "outputs": [
        {
          "data": {
            "text/plain": [
              "<TensorNetwork(tensors=1, indices=0)>"
            ]
          },
          "execution_count": 14,
          "metadata": {},
          "output_type": "execute_result"
        }
      ],
      "source": [
        "quimb_tn = zx.to_quimb_tensor(g)\n",
        "quimb_tn.full_simplify_('ADRCSL',output_inds=())\n",
        "quimb_tn.astype_('complex64')"
      ]
    },
    {
      "cell_type": "code",
      "execution_count": null,
      "metadata": {},
      "outputs": [
        {
          "data": {
            "text/plain": [
              "(-5.177906e-12-1.4671429e-12j)"
            ]
          },
          "execution_count": 16,
          "metadata": {},
          "output_type": "execute_result"
        }
      ],
      "source": [
        "quimb_tn.contract(output_inds=())"
      ]
    },
    {
      "cell_type": "code",
      "execution_count": null,
      "metadata": {
        "id": "jd_zyl_1Pn3R"
      },
      "outputs": [],
      "source": [
        "# quimb_tn.graph(initial_layout='kamada_kawai', iterations=10,  legend=False, figsize=(10, 10))"
      ]
    },
    {
      "cell_type": "code",
      "execution_count": null,
      "metadata": {
        "id": "nOcPWYwAQQIg"
      },
      "outputs": [],
      "source": [
        "opt = ctg.HyperOptimizer(\n",
        "    methods=['kahypar', 'greedy'],\n",
        "    max_repeats=128,\n",
        "    progbar=True,\n",
        "    minimize='flops',\n",
        "    score_compression=0.5,  # deliberately make the optimizer try many methods \n",
        ")"
      ]
    },
    {
      "cell_type": "code",
      "execution_count": null,
      "metadata": {
        "colab": {
          "base_uri": "https://localhost:8080/"
        },
        "id": "ZRY1JNMIRlIB",
        "outputId": "543d504e-c010-4e58-ccae-d7433f78df0b"
      },
      "outputs": [
        {
          "name": "stdout",
          "output_type": "stream",
          "text": [
            "Requirement already satisfied: igraph in /home/snehal/.pyenv/versions/3.8.9/lib/python3.8/site-packages (0.9.11)\n",
            "Requirement already satisfied: texttable>=1.6.2 in /home/snehal/.pyenv/versions/3.8.9/lib/python3.8/site-packages (from igraph) (1.6.4)\n"
          ]
        }
      ],
      "source": [
        "!pip install igraph"
      ]
    },
    {
      "cell_type": "code",
      "execution_count": null,
      "metadata": {
        "colab": {
          "base_uri": "https://localhost:8080/"
        },
        "id": "9c3Ls_ItWkGo",
        "outputId": "ae61452a-5103-42da-ff7f-9cf079e8da40"
      },
      "outputs": [
        {
          "name": "stderr",
          "output_type": "stream",
          "text": [
            "log2[SIZE]: 28.00 log10[FLOPs]: 10.62: 100%|██████████| 128/128 [03:09<00:00,  1.48s/it]\n"
          ]
        }
      ],
      "source": [
        "info = quimb_tn.contract(all, optimize=opt,output_inds=(), get='path-info')"
      ]
    },
    {
      "cell_type": "code",
      "execution_count": null,
      "metadata": {
        "colab": {
          "base_uri": "https://localhost:8080/",
          "height": 248
        },
        "id": "W8f0sGKPeQuy",
        "outputId": "d5cd9c01-e69d-4e8e-a82e-fbd17109523b"
      },
      "outputs": [
        {
          "data": {
            "image/png": "[encoded data removed]",
            "text/plain": [
              "<Figure size 576x216 with 1 Axes>"
            ]
          },
          "metadata": {
            "needs_background": "light"
          },
          "output_type": "display_data"
        }
      ],
      "source": [
        "opt.plot_trials(y='flops')"
      ]
    },
    {
      "cell_type": "code",
      "execution_count": null,
      "metadata": {
        "colab": {
          "base_uri": "https://localhost:8080/",
          "height": 357
        },
        "id": "mxH5RuXWUh7v",
        "outputId": "2f284540-0bf9-48f7-a9d3-3f4b493200d2"
      },
      "outputs": [
        {
          "data": {
            "image/png": "[encoded data removed]",
            "text/plain": [
              "<Figure size 360x360 with 1 Axes>"
            ]
          },
          "metadata": {
            "needs_background": "light"
          },
          "output_type": "display_data"
        }
      ],
      "source": [
        "opt.plot_scatter()"
      ]
    },
    {
      "cell_type": "code",
      "execution_count": null,
      "metadata": {
        "colab": {
          "base_uri": "https://localhost:8080/",
          "height": 35
        },
        "id": "GX9lnbpGXDIF",
        "outputId": "dbd147e5-bb2f-4cb6-a5a3-dd99c304dd4b"
      },
      "outputs": [
        {
          "data": {
            "text/plain": [
              "'2.096900e+10'"
            ]
          },
          "execution_count": 20,
          "metadata": {},
          "output_type": "execute_result"
        }
      ],
      "source": [
        "tree = opt.get_tree()\n",
        "f'{tree.contraction_cost():e}'"
      ]
    },
    {
      "cell_type": "code",
      "execution_count": null,
      "metadata": {
        "colab": {
          "base_uri": "https://localhost:8080/",
          "height": 35
        },
        "id": "aGP9Zipj_Rnz",
        "outputId": "c4c0df10-cb57-45fa-a3c7-08cdd0646510"
      },
      "outputs": [
        {
          "data": {
            "text/plain": [
              "'2.800000e+01'"
            ]
          },
          "execution_count": 21,
          "metadata": {},
          "output_type": "execute_result"
        }
      ],
      "source": [
        "f'{tree.contraction_width():e}'"
      ]
    },
    {
      "cell_type": "code",
      "execution_count": null,
      "metadata": {
        "id": "lXrCW9EB-7Wk"
      },
      "outputs": [],
      "source": [
        "g1 = g.copy()"
      ]
    },
    {
      "cell_type": "code",
      "execution_count": null,
      "metadata": {},
      "outputs": [
        {
          "data": {
            "text/plain": [
              "False"
            ]
          },
          "execution_count": 50,
          "metadata": {},
          "output_type": "execute_result"
        }
      ],
      "source": [
        "g==g1"
      ]
    },
    {
      "cell_type": "code",
      "execution_count": null,
      "metadata": {
        "colab": {
          "base_uri": "https://localhost:8080/"
        },
        "id": "gT7R9MvUOQG1",
        "outputId": "5163f210-a21b-4062-8dc0-75da8b38b3a9"
      },
      "outputs": [
        {
          "name": "stdout",
          "output_type": "stream",
          "text": [
            "spider_simp: 75. 48. 26.  3 iterations\n",
            "id_simp: 24.  1 iterations\n",
            "spider_simp: 12. 12.  2 iterations\n",
            "copy_simp: 28.  1 iterations\n",
            "spider_simp: 34. 6.  2 iterations\n",
            "id_simp: 6.  1 iterations\n",
            "spider_simp: 6.  1 iterations\n",
            "id_simp: 6.  1 iterations\n",
            "spider_simp: 6.  1 iterations\n",
            "lcomp_simp: 100. 9.  2 iterations\n",
            "id_simp: 6.  1 iterations\n",
            "spider_simp: 6.  1 iterations\n",
            "pivot_gadget_simp: 13. 8.  2 iterations\n",
            "id_simp: 4.  1 iterations\n",
            "spider_simp: 4.  1 iterations\n",
            "hpivot: 1.  1 iterations\n",
            "par_hbox_simp: 3.  1 iterations\n",
            "hpivot: 1.  1 iterations\n",
            "par_hbox_simp: 3.  1 iterations\n",
            "hpivot: 1.  1 iterations\n",
            "par_hbox_simp: 2.  1 iterations\n",
            "hpivot: 1.  1 iterations\n",
            "par_hbox_simp: 2.  1 iterations\n",
            "hpivot: 1.  1 iterations\n",
            "par_hbox_simp: 3.  1 iterations\n",
            "hpivot: 1.  1 iterations\n",
            "par_hbox_simp: 1.  1 iterations\n",
            "copy_simp: 1.  1 iterations\n",
            "spider_simp: 1.  1 iterations\n",
            "hpivot: 1.  1 iterations\n",
            "par_hbox_simp: 1.  1 iterations\n",
            "copy_simp: 1.  1 iterations\n",
            "spider_simp: 1.  1 iterations\n",
            "hpivot: 1.  1 iterations\n",
            "par_hbox_simp: 1.  1 iterations\n",
            "copy_simp: 1.  1 iterations\n",
            "spider_simp: 2. 2.  2 iterations\n",
            "hpivot: 1.  1 iterations\n",
            "par_hbox_simp: 1.  1 iterations\n",
            "copy_simp: 1.  1 iterations\n",
            "spider_simp: 3.  1 iterations\n",
            "hpivot: 1.  1 iterations\n",
            "par_hbox_simp: 1.  1 iterations\n",
            "copy_simp: 1.  1 iterations\n",
            "spider_simp: 1.  1 iterations\n",
            "hpivot: 1.  1 iterations\n",
            "par_hbox_simp: 1.  1 iterations\n",
            "copy_simp: 1.  1 iterations\n",
            "hpivot: 1.  1 iterations\n",
            "par_hbox_simp: 3.  1 iterations\n",
            "hpivot: 1.  1 iterations\n",
            "par_hbox_simp: 4.  1 iterations\n",
            "hpivot: 1.  1 iterations\n",
            "par_hbox_simp: 7.  1 iterations\n",
            "hpivot: 1.  1 iterations\n",
            "par_hbox_simp: 3.  1 iterations\n",
            "hpivot: 1.  1 iterations\n",
            "par_hbox_simp: 4.  1 iterations\n",
            "hpivot: 1.  1 iterations\n",
            "par_hbox_simp: 6.  1 iterations\n",
            "hpivot: 1.  1 iterations\n",
            "par_hbox_simp: 3.  1 iterations\n",
            "hpivot: 1.  1 iterations\n",
            "par_hbox_simp: 7.  1 iterations\n",
            "hpivot: 1.  1 iterations\n",
            "par_hbox_simp: 7.  1 iterations\n",
            "hpivot: 1.  1 iterations\n",
            "par_hbox_simp: 7.  1 iterations\n",
            "hpivot: 1.  1 iterations\n",
            "par_hbox_simp: 7.  1 iterations\n",
            "hpivot: 1.  1 iterations\n",
            "par_hbox_simp: 7.  1 iterations\n",
            "hpivot: 1.  1 iterations\n",
            "par_hbox_simp: 7.  1 iterations\n",
            "hpivot: 1.  1 iterations\n",
            "par_hbox_simp: 7.  1 iterations\n",
            "hpivot: 1.  1 iterations\n",
            "par_hbox_simp: 7.  1 iterations\n"
          ]
        },
        {
          "data": {
            "text/plain": [
              "45"
            ]
          },
          "execution_count": 63,
          "metadata": {},
          "output_type": "execute_result"
        }
      ],
      "source": [
        "from pyzx.hsimplify import zh_simp\n",
        "zh_simp(g,quiet=False)"
      ]
    },
    {
      "cell_type": "code",
      "execution_count": null,
      "metadata": {
        "colab": {
          "base_uri": "https://localhost:8080/"
        },
        "id": "f6oGd7gxOTeV",
        "outputId": "43a713ca-ff53-4f7a-d7ee-1540082c82c0"
      },
      "outputs": [
        {
          "data": {
            "text/plain": [
              "<TensorNetwork(tensors=111, indices=62)>"
            ]
          },
          "execution_count": 64,
          "metadata": {},
          "output_type": "execute_result"
        }
      ],
      "source": [
        "quimb_tn = zx.to_quimb_tensor(g)\n",
        "quimb_tn.astype_('complex64')"
      ]
    },
    {
      "cell_type": "code",
      "execution_count": null,
      "metadata": {},
      "outputs": [
        {
          "data": {
            "text/plain": [
              "(3.1159363e-13-5.7327867e-15j)"
            ]
          },
          "execution_count": 65,
          "metadata": {},
          "output_type": "execute_result"
        }
      ],
      "source": [
        "quimb_tn.contract(output_inds=())"
      ]
    },
    {
      "cell_type": "code",
      "execution_count": null,
      "metadata": {
        "colab": {
          "base_uri": "https://localhost:8080/"
        },
        "id": "1G0U2B5NUtsB",
        "outputId": "b383a479-18bc-4ce0-94f9-41728c5edddf"
      },
      "outputs": [
        {
          "data": {
            "text/plain": [
              "<TensorNetwork(tensors=1, indices=0)>"
            ]
          },
          "execution_count": 22,
          "metadata": {},
          "output_type": "execute_result"
        }
      ],
      "source": [
        "quimb_tn.full_simplify_('LRSAD',output_inds=())\n",
        "quimb_tn.astype_('complex64')"
      ]
    },
    {
      "cell_type": "code",
      "execution_count": null,
      "metadata": {},
      "outputs": [
        {
          "data": {
            "text/plain": [
              "(-6.6804094e-24+1.6382564e-25j)"
            ]
          },
          "execution_count": 23,
          "metadata": {},
          "output_type": "execute_result"
        }
      ],
      "source": [
        "quimb_tn.contract()"
      ]
    },
    {
      "cell_type": "code",
      "execution_count": null,
      "metadata": {
        "id": "ILEqbeAJXHBW"
      },
      "outputs": [],
      "source": [
        "opt2 = ctg.HyperOptimizer(\n",
        "    methods=['kahypar', 'greedy'],\n",
        "    max_repeats=128,\n",
        "    progbar=True,\n",
        "    minimize='flops',\n",
        "    score_compression=0.5,  # deliberately make the optimizer try many methods \n",
        ")"
      ]
    },
    {
      "cell_type": "code",
      "execution_count": null,
      "metadata": {
        "colab": {
          "base_uri": "https://localhost:8080/"
        },
        "id": "naAI2ml2VZps",
        "outputId": "2e6fabfb-a44e-42e4-b8db-8c18bdf1ab38"
      },
      "outputs": [
        {
          "name": "stderr",
          "output_type": "stream",
          "text": [
            "log2[SIZE]: 14.00 log10[FLOPs]: 6.14: 100%|██████████| 128/128 [00:21<00:00,  6.01it/s]\n"
          ]
        }
      ],
      "source": [
        "info = quimb_tn.contract(all, optimize=opt2,output_inds=(), get='path-info')"
      ]
    },
    {
      "cell_type": "code",
      "execution_count": null,
      "metadata": {
        "colab": {
          "base_uri": "https://localhost:8080/",
          "height": 248
        },
        "id": "cU7VvYsdVeAi",
        "outputId": "71192a00-de71-49ed-b047-72b855124e90"
      },
      "outputs": [
        {
          "data": {
            "image/png": "[encoded data removed]",
            "text/plain": [
              "<Figure size 576x216 with 1 Axes>"
            ]
          },
          "metadata": {
            "needs_background": "light"
          },
          "output_type": "display_data"
        }
      ],
      "source": [
        "opt2.plot_trials(y='flops')"
      ]
    },
    {
      "cell_type": "code",
      "execution_count": null,
      "metadata": {
        "colab": {
          "base_uri": "https://localhost:8080/",
          "height": 357
        },
        "id": "AKki9jQLVm34",
        "outputId": "a37a3c70-109b-4b71-a790-60409fb6d8da"
      },
      "outputs": [
        {
          "data": {
            "image/png": "[encoded data removed]",
            "text/plain": [
              "<Figure size 360x360 with 1 Axes>"
            ]
          },
          "metadata": {
            "needs_background": "light"
          },
          "output_type": "display_data"
        }
      ],
      "source": [
        "opt2.plot_scatter()"
      ]
    },
    {
      "cell_type": "code",
      "execution_count": null,
      "metadata": {
        "colab": {
          "base_uri": "https://localhost:8080/",
          "height": 35
        },
        "id": "m_tahKICw_1V",
        "outputId": "6951c9c5-5261-4161-c9c3-115521af5b3a"
      },
      "outputs": [
        {
          "data": {
            "text/plain": [
              "'6.867160e+05'"
            ]
          },
          "execution_count": 36,
          "metadata": {},
          "output_type": "execute_result"
        }
      ],
      "source": [
        "tree = opt2.get_tree()\n",
        "f'{tree.contraction_cost():e}'"
      ]
    },
    {
      "cell_type": "code",
      "execution_count": null,
      "metadata": {
        "colab": {
          "base_uri": "https://localhost:8080/",
          "height": 35
        },
        "id": "eVa57WuQbvSL",
        "outputId": "6adf688f-f79d-4bf9-bb4f-fda630f1fb1e"
      },
      "outputs": [
        {
          "data": {
            "text/plain": [
              "'1.500000e+01'"
            ]
          },
          "execution_count": 31,
          "metadata": {},
          "output_type": "execute_result"
        }
      ],
      "source": [
        "f'{tree.contraction_width():e}'"
      ]
    },
    {
      "cell_type": "code",
      "execution_count": null,
      "metadata": {},
      "outputs": [
        {
          "ename": "NameError",
          "evalue": "name 'g1' is not defined",
          "output_type": "error",
          "traceback": [
            "\u001b[0;31m---------------------------------------------------------------------------\u001b[0m",
            "\u001b[0;31mNameError\u001b[0m                                 Traceback (most recent call last)",
            "\u001b[0;32m/tmp/ipykernel_2875/430214533.py\u001b[0m in \u001b[0;36m<module>\u001b[0;34m\u001b[0m\n\u001b[0;32m----> 1\u001b[0;31m \u001b[0mg1\u001b[0m\u001b[0;34m.\u001b[0m\u001b[0mto_quimb_tensor\u001b[0m\u001b[0;34m(\u001b[0m\u001b[0;34m)\u001b[0m\u001b[0;34m\u001b[0m\u001b[0;34m\u001b[0m\u001b[0m\n\u001b[0m",
            "\u001b[0;31mNameError\u001b[0m: name 'g1' is not defined"
          ]
        }
      ],
      "source": [
        "g1.to_quimb_tensor()"
      ]
    },
    {
      "cell_type": "code",
      "execution_count": null,
      "metadata": {},
      "outputs": [],
      "source": []
    }
  ],
  "metadata": {
    "accelerator": "GPU",
    "colab": {
      "name": "Copy of Sycamore - pyzx.ipynb",
      "provenance": []
    },
    "gpuClass": "standard",
    "kernelspec": {
      "display_name": "Python 3.8.9 64-bit ('3.8.9')",
      "language": "python",
      "name": "python3"
    },
    "language_info": {
      "codemirror_mode": {
        "name": "ipython",
        "version": 3
      },
      "file_extension": ".py",
      "mimetype": "text/x-python",
      "name": "python",
      "nbconvert_exporter": "python",
      "pygments_lexer": "ipython3",
      "version": "3.8.9"
    },
    "vscode": {
      "interpreter": {
        "hash": "ade7548203f1bf96ec7e64515aa324e655cba2fe5f8fd4f8dd248c39f00d3fe0"
      }
    }
  },
  "nbformat": 4,
  "nbformat_minor": 0
}
