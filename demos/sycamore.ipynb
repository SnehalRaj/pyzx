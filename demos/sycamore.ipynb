{
  "cells": [
    {
      "cell_type": "code",
      "execution_count": 1,
      "metadata": {
        "colab": {
          "base_uri": "https://localhost:8080/"
        },
        "id": "MDhT9SZWd6sY",
        "outputId": "60f46d0f-0ec3-43f1-9332-95231e04cced"
      },
      "outputs": [
        {
          "name": "stdout",
          "output_type": "stream",
          "text": [
            "Requirement already satisfied: autoray in /home/snehal/.pyenv/versions/3.8.9/lib/python3.8/site-packages (0.2.5)\n",
            "Requirement already satisfied: numpy in /home/snehal/.pyenv/versions/3.8.9/lib/python3.8/site-packages (from autoray) (1.21.1)\n",
            "Note: you may need to restart the kernel to use updated packages.\n",
            "Requirement already satisfied: opt_einsum in /home/snehal/.pyenv/versions/3.8.9/lib/python3.8/site-packages (3.3.0)\n",
            "Requirement already satisfied: numpy>=1.7 in /home/snehal/.pyenv/versions/3.8.9/lib/python3.8/site-packages (from opt_einsum) (1.21.1)\n",
            "Note: you may need to restart the kernel to use updated packages.\n",
            "Collecting git+https://github.com/jcmgray/quimb.git@08ab4805df6be023e1027503b8c0915e1bf50b34\n",
            "  Cloning https://github.com/jcmgray/quimb.git (to revision 08ab4805df6be023e1027503b8c0915e1bf50b34) to /tmp/pip-req-build-3wyn1287\n",
            "  Running command git clone --filter=blob:none --quiet https://github.com/jcmgray/quimb.git /tmp/pip-req-build-3wyn1287\n",
            "  Running command git rev-parse -q --verify 'sha^08ab4805df6be023e1027503b8c0915e1bf50b34'\n",
            "  Running command git fetch -q https://github.com/jcmgray/quimb.git 08ab4805df6be023e1027503b8c0915e1bf50b34\n",
            "  Running command git checkout -q 08ab4805df6be023e1027503b8c0915e1bf50b34\n",
            "  Resolved https://github.com/jcmgray/quimb.git to commit 08ab4805df6be023e1027503b8c0915e1bf50b34\n",
            "  Preparing metadata (setup.py) ... \u001b[?25ldone\n",
            "\u001b[?25hNote: you may need to restart the kernel to use updated packages.\n",
            "Collecting git+https://github.com/jcmgray/cotengra.git\n",
            "  Cloning https://github.com/jcmgray/cotengra.git to /tmp/pip-req-build-exbr6fkn\n",
            "  Running command git clone --filter=blob:none --quiet https://github.com/jcmgray/cotengra.git /tmp/pip-req-build-exbr6fkn\n",
            "  Resolved https://github.com/jcmgray/cotengra.git to commit c3d7d345ef6ef7c61d2c2b5c86e9de8e73db4286\n",
            "  Preparing metadata (setup.py) ... \u001b[?25ldone\n",
            "\u001b[?25hRequirement already satisfied: opt_einsum in /home/snehal/.pyenv/versions/3.8.9/lib/python3.8/site-packages (from cotengra==0.1.0) (3.3.0)\n",
            "Requirement already satisfied: tqdm in /home/snehal/.pyenv/versions/3.8.9/lib/python3.8/site-packages (from cotengra==0.1.0) (4.62.3)\n",
            "Requirement already satisfied: cytoolz in /home/snehal/.pyenv/versions/3.8.9/lib/python3.8/site-packages (from cotengra==0.1.0) (0.11.2)\n",
            "Requirement already satisfied: optuna in /home/snehal/.pyenv/versions/3.8.9/lib/python3.8/site-packages (from cotengra==0.1.0) (2.10.1)\n",
            "Requirement already satisfied: autoray in /home/snehal/.pyenv/versions/3.8.9/lib/python3.8/site-packages (from cotengra==0.1.0) (0.2.5)\n",
            "Requirement already satisfied: numpy in /home/snehal/.pyenv/versions/3.8.9/lib/python3.8/site-packages (from autoray->cotengra==0.1.0) (1.21.1)\n",
            "Requirement already satisfied: toolz>=0.8.0 in /home/snehal/.pyenv/versions/3.8.9/lib/python3.8/site-packages (from cytoolz->cotengra==0.1.0) (0.11.2)\n",
            "Requirement already satisfied: cliff in /home/snehal/.pyenv/versions/3.8.9/lib/python3.8/site-packages (from optuna->cotengra==0.1.0) (3.10.1)\n",
            "Requirement already satisfied: packaging>=20.0 in /home/snehal/.pyenv/versions/3.8.9/lib/python3.8/site-packages (from optuna->cotengra==0.1.0) (21.3)\n",
            "Requirement already satisfied: sqlalchemy>=1.1.0 in /home/snehal/.pyenv/versions/3.8.9/lib/python3.8/site-packages (from optuna->cotengra==0.1.0) (1.4.37)\n",
            "Requirement already satisfied: PyYAML in /home/snehal/.pyenv/versions/3.8.9/lib/python3.8/site-packages (from optuna->cotengra==0.1.0) (6.0)\n",
            "Requirement already satisfied: cmaes>=0.8.2 in /home/snehal/.pyenv/versions/3.8.9/lib/python3.8/site-packages (from optuna->cotengra==0.1.0) (0.8.2)\n",
            "Requirement already satisfied: colorlog in /home/snehal/.pyenv/versions/3.8.9/lib/python3.8/site-packages (from optuna->cotengra==0.1.0) (6.6.0)\n",
            "Requirement already satisfied: alembic in /home/snehal/.pyenv/versions/3.8.9/lib/python3.8/site-packages (from optuna->cotengra==0.1.0) (1.8.0)\n",
            "Requirement already satisfied: scipy!=1.4.0 in /home/snehal/.pyenv/versions/3.8.9/lib/python3.8/site-packages (from optuna->cotengra==0.1.0) (1.7.1)\n",
            "Requirement already satisfied: pyparsing!=3.0.5,>=2.0.2 in /home/snehal/.pyenv/versions/3.8.9/lib/python3.8/site-packages (from packaging>=20.0->optuna->cotengra==0.1.0) (2.4.7)\n",
            "Requirement already satisfied: greenlet!=0.4.17 in /home/snehal/.pyenv/versions/3.8.9/lib/python3.8/site-packages (from sqlalchemy>=1.1.0->optuna->cotengra==0.1.0) (1.1.2)\n",
            "Requirement already satisfied: importlib-resources in /home/snehal/.pyenv/versions/3.8.9/lib/python3.8/site-packages (from alembic->optuna->cotengra==0.1.0) (5.8.0)\n",
            "Requirement already satisfied: Mako in /home/snehal/.pyenv/versions/3.8.9/lib/python3.8/site-packages (from alembic->optuna->cotengra==0.1.0) (1.2.0)\n",
            "Requirement already satisfied: importlib-metadata in /home/snehal/.pyenv/versions/3.8.9/lib/python3.8/site-packages (from alembic->optuna->cotengra==0.1.0) (4.11.4)\n",
            "Requirement already satisfied: autopage>=0.4.0 in /home/snehal/.pyenv/versions/3.8.9/lib/python3.8/site-packages (from cliff->optuna->cotengra==0.1.0) (0.5.1)\n",
            "Requirement already satisfied: PrettyTable>=0.7.2 in /home/snehal/.pyenv/versions/3.8.9/lib/python3.8/site-packages (from cliff->optuna->cotengra==0.1.0) (3.3.0)\n",
            "Requirement already satisfied: cmd2>=1.0.0 in /home/snehal/.pyenv/versions/3.8.9/lib/python3.8/site-packages (from cliff->optuna->cotengra==0.1.0) (2.4.1)\n",
            "Requirement already satisfied: pbr!=2.1.0,>=2.0.0 in /home/snehal/.pyenv/versions/3.8.9/lib/python3.8/site-packages (from cliff->optuna->cotengra==0.1.0) (5.9.0)\n",
            "Requirement already satisfied: stevedore>=2.0.1 in /home/snehal/.pyenv/versions/3.8.9/lib/python3.8/site-packages (from cliff->optuna->cotengra==0.1.0) (3.5.0)\n",
            "Requirement already satisfied: pyperclip>=1.6 in /home/snehal/.pyenv/versions/3.8.9/lib/python3.8/site-packages (from cmd2>=1.0.0->cliff->optuna->cotengra==0.1.0) (1.8.2)\n",
            "Requirement already satisfied: attrs>=16.3.0 in /home/snehal/.pyenv/versions/3.8.9/lib/python3.8/site-packages (from cmd2>=1.0.0->cliff->optuna->cotengra==0.1.0) (21.2.0)\n",
            "Requirement already satisfied: wcwidth>=0.1.7 in /home/snehal/.pyenv/versions/3.8.9/lib/python3.8/site-packages (from cmd2>=1.0.0->cliff->optuna->cotengra==0.1.0) (0.2.5)\n",
            "Requirement already satisfied: zipp>=0.5 in /home/snehal/.pyenv/versions/3.8.9/lib/python3.8/site-packages (from importlib-metadata->alembic->optuna->cotengra==0.1.0) (3.8.0)\n",
            "Requirement already satisfied: MarkupSafe>=0.9.2 in /home/snehal/.pyenv/versions/3.8.9/lib/python3.8/site-packages (from Mako->alembic->optuna->cotengra==0.1.0) (2.0.1)\n",
            "Note: you may need to restart the kernel to use updated packages.\n",
            "Requirement already satisfied: kahypar in /home/snehal/.pyenv/versions/3.8.9/lib/python3.8/site-packages (1.1.7)\n",
            "Note: you may need to restart the kernel to use updated packages.\n"
          ]
        }
      ],
      "source": [
        "%load_ext autoreload\n",
        "%autoreload 2\n",
        "%pip install autoray\n",
        "%pip install opt_einsum\n",
        "\n",
        "%pip install --no-deps -U git+https://github.com/jcmgray/quimb.git@08ab4805df6be023e1027503b8c0915e1bf50b34\n",
        "%pip install -U git+https://github.com/jcmgray/cotengra.git\n",
        "%pip install kahypar\n",
        "\n",
        "# just set up some misc notebook plotting stuff\n",
        "\n",
        "%matplotlib inline\n",
        "import matplotlib as mpl\n",
        "mpl.rcParams['figure.dpi'] = 200\n",
        "\n",
        "import sys; sys.path.append('..')\n",
        "import matplotlib.pyplot as plt\n",
        "import quimb.tensor as qtn\n",
        "import cotengra as ctg\n",
        "import quimb as qu\n",
        "import numpy as np\n",
        "import time, random"
      ]
    },
    {
      "cell_type": "code",
      "execution_count": 2,
      "metadata": {},
      "outputs": [
        {
          "data": {
            "text/plain": [
              "<module 'pyzx' from '/home/snehal/pyzx/pyzx/__init__.py'>"
            ]
          },
          "execution_count": 2,
          "metadata": {},
          "output_type": "execute_result"
        }
      ],
      "source": [
        "import pyzx as zx\n",
        "import importlib\n",
        "importlib.reload(zx)"
      ]
    },
    {
      "cell_type": "code",
      "execution_count": 2,
      "metadata": {
        "id": "HsJtQL39d7SL"
      },
      "outputs": [],
      "source": [
        "zx.settings.drawing_backend = 'matplotlib'\n",
        "%matplotlib inline \n",
        "def show(g):\n",
        "  return zx.draw_matplotlib(g,labels=True,h_edge_draw='box', figsize=(10,10))"
      ]
    },
    {
      "cell_type": "code",
      "execution_count": 21,
      "metadata": {
        "id": "Pqvh5fEId_rT"
      },
      "outputs": [],
      "source": [
        "def check_similarity(file):\n",
        "  circ2 = qtn.Circuit.from_qasm_file(file, gate_opts={})\n",
        "  psi_f = qtn.MPS_computational_state('0' * (circ2.N))\n",
        "  tn2 = circ2.psi  & psi_f\n",
        "  output_inds = []\n",
        "  out2 = tn2.contract()\n",
        "\n",
        "  circ1 = zx.Circuit.from_qsim_file(file)\n",
        "  g1 = circ1.to_graph(zh=True)\n",
        "  qubits = circ2.N\n",
        "  g1.apply_effect(\"0\"*qubits)\n",
        "  g1.apply_state(\"0\"*qubits)\n",
        "  out1 = g1.to_tensor()\n",
        "\n",
        "  if abs(abs(out1) - abs(out2)) > 1e-9:\n",
        "    print(\"Different!\")\n",
        "  else:\n",
        "    print(\"Same!\")\n",
        "\n",
        "  print(f\"ZX tensor is {out1} with abs value {abs(out1)}\")\n",
        "  print(\"qt tensor is {} with abs value {}\".format(out2, abs(out2)))\n",
        "  print(\"Diff ZX-quimb {}\".format(abs(out1)-abs(out2)))\n",
        "  print(\"Ratio ZX/quimb {}\".format(abs(out1)/abs(out2)))\n",
        "\n",
        "\n",
        "  return out1, out2, g1\n",
        "\n",
        "\n"
      ]
    },
    {
      "cell_type": "code",
      "execution_count": null,
      "metadata": {
        "colab": {
          "base_uri": "https://localhost:8080/",
          "height": 299
        },
        "id": "u3VcqguefGHJ",
        "outputId": "4b77ebb4-74f9-4c54-e694-65d4d0a48f08"
      },
      "outputs": [],
      "source": [
        "_,_,g1 = check_similarity('a.qsim')"
      ]
    },
    {
      "cell_type": "code",
      "execution_count": 19,
      "metadata": {
        "colab": {
          "base_uri": "https://localhost:8080/",
          "height": 244
        },
        "id": "4nWYwVI5gtVC",
        "outputId": "d515d68f-ef4f-477d-f29e-26e9cd26e346"
      },
      "outputs": [
        {
          "data": {
            "text/plain": [
              "array([[ 1.   -0.j   ,  0.   +0.j   , -0.   +0.j   , -0.   +0.j   ],\n",
              "       [-0.   +0.j   ,  0.333-0.j   , -0.   -0.943j,  0.   +0.j   ],\n",
              "       [ 0.   -0.j   , -0.   -0.943j,  0.333-0.j   ,  0.   +0.j   ],\n",
              "       [-0.   +0.j   ,  0.   -0.j   ,  0.   +0.j   ,  0.333-0.943j]])"
            ]
          },
          "execution_count": 19,
          "metadata": {},
          "output_type": "execute_result"
        }
      ],
      "source": [
        "circ1 = zx.Circuit.from_qsim_file('d.qsim')\n",
        "g1 = circ1.to_graph(zh=True)\n",
        "#g1.apply_state(\"0\"*21)\n",
        "#g1.apply_effect(\"0\"*21)\n",
        "tn1 = g1.to_matrix()\n",
        "tn1 *= np.exp(-1j * 1.23123)\n",
        "tn1.round(3)"
      ]
    },
    {
      "cell_type": "code",
      "execution_count": 12,
      "metadata": {},
      "outputs": [
        {
          "data": {
            "text/plain": [
              "(0.33307821335633747-0.9428992012868344j)"
            ]
          },
          "execution_count": 12,
          "metadata": {},
          "output_type": "execute_result"
        }
      ],
      "source": [
        "np.exp(-1j * 1.23123)"
      ]
    },
    {
      "cell_type": "code",
      "execution_count": 36,
      "metadata": {
        "colab": {
          "base_uri": "https://localhost:8080/"
        },
        "id": "4qvvuzjVgW-m",
        "outputId": "1285ee39-6c88-4be3-b605-3f5f426bbaf9"
      },
      "outputs": [
        {
          "data": {
            "text/plain": [
              "2.128630424159653e-06"
            ]
          },
          "execution_count": 36,
          "metadata": {},
          "output_type": "execute_result"
        }
      ],
      "source": [
        "file = 'b.qsim'\n",
        "circ2 = qtn.Circuit.from_qasm_file(file, gate_opts={}, Ppsi0)\n",
        "tn2 = circ2.psi \n",
        "abs(tn2.contract())"
      ]
    },
    {
      "cell_type": "markdown",
      "metadata": {
        "id": "YU3sr4S2HFWs"
      },
      "source": []
    },
    {
      "cell_type": "code",
      "execution_count": 211,
      "metadata": {
        "colab": {
          "base_uri": "https://localhost:8080/",
          "height": 751
        },
        "id": "S0u-0GfdGibN",
        "outputId": "a8b666e3-6cd9-42df-eb3f-2aa553fab438"
      },
      "outputs": [
        {
          "data": {
            "image/png": "[encoded data removed]",
            "text/plain": [
              "<Figure size 720x720 with 1 Axes>"
            ]
          },
          "execution_count": 211,
          "metadata": {},
          "output_type": "execute_result"
        }
      ],
      "source": [
        "show(g1)"
      ]
    },
    {
      "cell_type": "code",
      "execution_count": 190,
      "metadata": {
        "colab": {
          "base_uri": "https://localhost:8080/"
        },
        "id": "Az6Uei7eAGx2",
        "outputId": "0bdcffa2-7dd8-40bc-b786-dbf34680bd1b"
      },
      "outputs": [
        {
          "data": {
            "text/plain": [
              "array([-0.35355339+0.85355339j,  0.35355339+0.14644661j])"
            ]
          },
          "execution_count": 190,
          "metadata": {},
          "output_type": "execute_result"
        }
      ],
      "source": [
        "tn1"
      ]
    },
    {
      "cell_type": "code",
      "execution_count": 103,
      "metadata": {
        "colab": {
          "base_uri": "https://localhost:8080/"
        },
        "id": "SCm2eUeQBqxI",
        "outputId": "a79ac019-fd6c-4691-ba50-0eb746b6c827"
      },
      "outputs": [
        {
          "data": {
            "text/plain": [
              "array([ 0.5       +0.5j       , -0.10133574+0.69980788j])"
            ]
          },
          "execution_count": 103,
          "metadata": {},
          "output_type": "execute_result"
        }
      ],
      "source": [
        "tn2 * zx.find_scalar_correction(tn1, tn2)"
      ]
    },
    {
      "cell_type": "code",
      "execution_count": 104,
      "metadata": {
        "colab": {
          "base_uri": "https://localhost:8080/"
        },
        "id": "Zfe6l__kBrO9",
        "outputId": "316fdfef-3840-494d-83ed-3d234b745810"
      },
      "outputs": [
        {
          "data": {
            "text/plain": [
              "1.0000000000000002"
            ]
          },
          "execution_count": 104,
          "metadata": {},
          "output_type": "execute_result"
        }
      ],
      "source": [
        "abs(zx.find_scalar_correction(tn1, tn2))"
      ]
    },
    {
      "cell_type": "code",
      "execution_count": null,
      "metadata": {
        "id": "ErEGQ7lzCPG5"
      },
      "outputs": [],
      "source": []
    }
  ],
  "metadata": {
    "colab": {
      "collapsed_sections": [],
      "name": "Untitled39.ipynb",
      "provenance": []
    },
    "kernelspec": {
      "display_name": "Python 3.8.9 64-bit ('3.8.9')",
      "language": "python",
      "name": "python3"
    },
    "language_info": {
      "codemirror_mode": {
        "name": "ipython",
        "version": 3
      },
      "file_extension": ".py",
      "mimetype": "text/x-python",
      "name": "python",
      "nbconvert_exporter": "python",
      "pygments_lexer": "ipython3",
      "version": "3.8.9"
    },
    "vscode": {
      "interpreter": {
        "hash": "ade7548203f1bf96ec7e64515aa324e655cba2fe5f8fd4f8dd248c39f00d3fe0"
      }
    }
  },
  "nbformat": 4,
  "nbformat_minor": 0
}
